{
 "cells": [
  {
   "cell_type": "markdown",
   "source": [
    "# python 面向对象编程进阶\n",
    "本文件主要用于智慧水利团队python面向编程培训"
   ],
   "metadata": {
    "collapsed": false
   },
   "id": "a7c55d3ff9f90ae5"
  },
  {
   "cell_type": "markdown",
   "source": [
    "## 类的继承和多态\n",
    "定义一个class的时候，可以从某个现有的class继承，新的class称为子类（Subclass），而被继承的class称为基类、父类或超类（Base class、Super class）。"
   ],
   "metadata": {
    "collapsed": false
   },
   "id": "a94628fe185b255e"
  },
  {
   "cell_type": "code",
   "execution_count": 17,
   "outputs": [],
   "source": [
    "# 定义一个动物类，他继承一个object类\n",
    "class Animal(object):\n",
    "\n",
    "    def __init__(self, name, sex, age):\n",
    "        self.__name = name\n",
    "        self.__sex = sex\n",
    "        self.__age = age\n",
    "    \n",
    "    @property\n",
    "    def name(self):\n",
    "        return self.__name\n",
    "    \n",
    "    @property\n",
    "    def sex(self):\n",
    "        return self.__sex\n",
    "\n",
    "    def moving(self):\n",
    "        print(f'{self.name} is moving...')\n",
    "\n",
    "\n",
    "class Dog(Animal):\n",
    "\n",
    "    def __init__(self, name, sex, age):\n",
    "        super().__init__(name, sex, age)\n",
    "\n",
    "    def moving(self):\n",
    "        print(f'{self.name} is running...')\n",
    "\n",
    "    @property\n",
    "    def num_of_feet(self):\n",
    "        return 4\n",
    "\n",
    "\n",
    "class Fish(Animal):\n",
    "\n",
    "    def __init__(self, name, sex, age):\n",
    "        super().__init__(name, sex, age)\n",
    "\n",
    "    def moving(self):\n",
    "        print(f'{self.name} is swimming...')\n",
    "\n",
    "    @property\n",
    "    def num_of_feet(self):\n",
    "        return 0"
   ],
   "metadata": {
    "collapsed": false,
    "ExecuteTime": {
     "end_time": "2024-03-14T08:21:20.790721600Z",
     "start_time": "2024-03-14T08:21:20.783215100Z"
    }
   },
   "id": "a1cd101e200930a9"
  },
  {
   "cell_type": "code",
   "execution_count": 18,
   "outputs": [],
   "source": [
    "# 实例化对象\n",
    "animal_1 = Animal(\"an\", \"male\", 1)\n",
    "dog_1 = Dog(\"d\", \"female\", 0.4)\n",
    "fish_1 = Dog(\"f\", \"male\", 2)"
   ],
   "metadata": {
    "collapsed": false,
    "ExecuteTime": {
     "end_time": "2024-03-14T08:21:20.814398500Z",
     "start_time": "2024-03-14T08:21:20.788719300Z"
    }
   },
   "id": "5a8a22cfc782b882"
  },
  {
   "cell_type": "markdown",
   "source": [
    "获取调用父类的方法（继承）"
   ],
   "metadata": {
    "collapsed": false
   },
   "id": "84a88ae92baa1a1c"
  },
  {
   "cell_type": "code",
   "execution_count": 19,
   "outputs": [
    {
     "name": "stdout",
     "output_type": "stream",
     "text": [
      "male\n",
      "female\n",
      "male\n"
     ]
    }
   ],
   "source": [
    "print(animal_1.sex)\n",
    "print(dog_1.sex)\n",
    "print(fish_1.sex)"
   ],
   "metadata": {
    "collapsed": false,
    "ExecuteTime": {
     "end_time": "2024-03-14T08:21:20.819903400Z",
     "start_time": "2024-03-14T08:21:20.804895Z"
    }
   },
   "id": "5b69d9aeaaa0e949"
  },
  {
   "cell_type": "markdown",
   "source": [
    "# 调用自己的方法（多态）"
   ],
   "metadata": {
    "collapsed": false
   },
   "id": "7f2a54a6bee46a16"
  },
  {
   "cell_type": "code",
   "execution_count": 20,
   "outputs": [
    {
     "name": "stdout",
     "output_type": "stream",
     "text": [
      "an is moving...\n",
      "None\n",
      "d is running...\n",
      "None\n",
      "f is running...\n",
      "None\n"
     ]
    }
   ],
   "source": [
    "print(animal_1.moving())\n",
    "print(dog_1.moving())\n",
    "print(fish_1.moving())"
   ],
   "metadata": {
    "collapsed": false,
    "ExecuteTime": {
     "end_time": "2024-03-14T08:21:20.834445300Z",
     "start_time": "2024-03-14T08:21:20.819903400Z"
    }
   },
   "id": "ac39817074974bfe"
  },
  {
   "cell_type": "code",
   "execution_count": 21,
   "outputs": [
    {
     "name": "stdout",
     "output_type": "stream",
     "text": [
      "4\n",
      "4\n"
     ]
    }
   ],
   "source": [
    "print(dog_1.num_of_feet)\n",
    "print(fish_1.num_of_feet)"
   ],
   "metadata": {
    "collapsed": false,
    "ExecuteTime": {
     "end_time": "2024-03-14T08:21:20.879189900Z",
     "start_time": "2024-03-14T08:21:20.836405800Z"
    }
   },
   "id": "b890120205befb9c"
  }
 ],
 "metadata": {
  "kernelspec": {
   "display_name": "Python 3",
   "language": "python",
   "name": "python3"
  },
  "language_info": {
   "codemirror_mode": {
    "name": "ipython",
    "version": 2
   },
   "file_extension": ".py",
   "mimetype": "text/x-python",
   "name": "python",
   "nbconvert_exporter": "python",
   "pygments_lexer": "ipython2",
   "version": "2.7.6"
  }
 },
 "nbformat": 4,
 "nbformat_minor": 5
}
