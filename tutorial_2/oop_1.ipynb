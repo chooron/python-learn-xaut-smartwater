{
 "cells": [
  {
   "cell_type": "markdown",
   "source": [
    "# python 面向对象编程入门\n",
    "本文件主要用于智慧水利团队python面向编程培训"
   ],
   "metadata": {
    "collapsed": false
   },
   "id": "e0f6b1e26b21b0c4"
  },
  {
   "cell_type": "markdown",
   "source": [
    "## 面向对象编程基本概念\n",
    "**对象**：对象是人们要进行研究的任何事物，包括具体的事物（人、水库），还能表示抽象的规则、计划或事件。对象包括属性和方法，前者通过数据进行描述，后者则是利用函数实现对象的行为。\n",
    "\n",
    "\n",
    "**类**：用户定义的对象原型（prototype）或者是抽象（abstract），对象的抽象是类，类的具体化就是对象，类是一个模板，我们可以使用该模板生成不同的具体的对象，来完成我们想要的操作。"
   ],
   "metadata": {
    "collapsed": false
   },
   "id": "60544bd08e9305b7"
  },
  {
   "cell_type": "markdown",
   "source": [
    "定义一个python类，类名称为Student"
   ],
   "metadata": {
    "collapsed": false
   },
   "id": "46498cff006a4b80"
  },
  {
   "cell_type": "code",
   "execution_count": 6,
   "outputs": [],
   "source": [
    "class Student:\n",
    "\n",
    "    def __init__(self, name, age):\n",
    "        # 对象属性\n",
    "        self.name = name\n",
    "        self.age = age\n",
    "\n",
    "    def is_adult(self):\n",
    "        \"\"\"\n",
    "        对象方法\n",
    "        :return: bool\n",
    "        \"\"\"\n",
    "        return self.age >= 18"
   ],
   "metadata": {
    "collapsed": false,
    "ExecuteTime": {
     "end_time": "2024-03-14T07:21:45.102164700Z",
     "start_time": "2024-03-14T07:21:45.052580500Z"
    }
   },
   "id": "4832f4a84e8abd8c"
  },
  {
   "cell_type": "markdown",
   "source": [
    "对象实例化"
   ],
   "metadata": {
    "collapsed": false
   },
   "id": "fde87fc271a7998"
  },
  {
   "cell_type": "code",
   "execution_count": 7,
   "outputs": [],
   "source": [
    "stu1 = Student(\"david\", 18)\n",
    "stu2 = Student(\"kokomi\", 17)"
   ],
   "metadata": {
    "collapsed": false,
    "ExecuteTime": {
     "end_time": "2024-03-14T07:21:45.144414Z",
     "start_time": "2024-03-14T07:21:45.071073200Z"
    }
   },
   "id": "45d142a3988fe102"
  },
  {
   "cell_type": "markdown",
   "source": [
    "调用对象方法和属性"
   ],
   "metadata": {
    "collapsed": false
   },
   "id": "27d4b3c9fd8186f0"
  },
  {
   "cell_type": "code",
   "execution_count": 8,
   "outputs": [
    {
     "name": "stdout",
     "output_type": "stream",
     "text": [
      "True\n",
      "david\n"
     ]
    }
   ],
   "source": [
    "print(stu1.is_adult())  # 调用方法判断是否成年\n",
    "print(stu1.name)  # 获取属性得到对象的名称"
   ],
   "metadata": {
    "collapsed": false,
    "ExecuteTime": {
     "end_time": "2024-03-14T07:21:45.146420100Z",
     "start_time": "2024-03-14T07:21:45.087520500Z"
    }
   },
   "id": "243146225be5db21"
  },
  {
   "cell_type": "markdown",
   "source": [
    "## 对象的访问权限介绍\n",
    "在学习 java 的过程中，我们知道 java 拥有 public > default > protected > private 的四大访问修饰符。而在Python，对象属性访问可以通过实例化对象加`.`加属性名，同时对象属性的修改可以直接通过实例化对象加`.`加属性名等于修改值实现属性值的修改：\n",
    "```Stu1.name = \"Vivian\"```\n",
    "而在一些情况中我们需要尽可能地避免直接访问对象或方法，这时候就可以在对象名前键入两个下划线`__`,限制属性或方法的直接访问。"
   ],
   "metadata": {
    "collapsed": false
   },
   "id": "ea144a0e5e5585a0"
  },
  {
   "cell_type": "code",
   "execution_count": 9,
   "outputs": [],
   "source": [
    "class Student:\n",
    "    def __init__(self, name, age):\n",
    "        self.__name = name\n",
    "        self.__age = age\n",
    "\n",
    "    def get_name(self):\n",
    "        return self.__name\n",
    "\n",
    "    def get_age(self):\n",
    "        return self.__age\n",
    "\n",
    "    def set_name(self, name):\n",
    "        self.__name = name\n",
    "\n",
    "    def set_age(self, age):\n",
    "        self.__age = age\n",
    "\n",
    "    @property\n",
    "    def name(self):\n",
    "        return self.__name"
   ],
   "metadata": {
    "collapsed": false,
    "ExecuteTime": {
     "end_time": "2024-03-14T07:21:45.147419900Z",
     "start_time": "2024-03-14T07:21:45.105282900Z"
    }
   },
   "id": "67434f3c9ca48d5a"
  },
  {
   "cell_type": "markdown",
   "source": [
    "检查属性的访问权限,提取stu1对象的__name属性发现报错了"
   ],
   "metadata": {
    "collapsed": false
   },
   "id": "ba4692e72a593cd6"
  },
  {
   "cell_type": "code",
   "execution_count": 10,
   "outputs": [
    {
     "ename": "AttributeError",
     "evalue": "'Student' object has no attribute '__name'",
     "output_type": "error",
     "traceback": [
      "\u001B[1;31m---------------------------------------------------------------------------\u001B[0m",
      "\u001B[1;31mAttributeError\u001B[0m                            Traceback (most recent call last)",
      "Cell \u001B[1;32mIn[10], line 2\u001B[0m\n\u001B[0;32m      1\u001B[0m stu1 \u001B[38;5;241m=\u001B[39m Student(\u001B[38;5;124m\"\u001B[39m\u001B[38;5;124mkokomi\u001B[39m\u001B[38;5;124m\"\u001B[39m, \u001B[38;5;241m20\u001B[39m)\n\u001B[1;32m----> 2\u001B[0m \u001B[38;5;28mprint\u001B[39m(\u001B[43mstu1\u001B[49m\u001B[38;5;241;43m.\u001B[39;49m\u001B[43m__name\u001B[49m)\n",
      "\u001B[1;31mAttributeError\u001B[0m: 'Student' object has no attribute '__name'"
     ]
    }
   ],
   "source": [
    "stu1 = Student(\"kokomi\", 20)\n",
    "print(stu1.__name)"
   ],
   "metadata": {
    "collapsed": false,
    "ExecuteTime": {
     "end_time": "2024-03-14T07:21:45.148420100Z",
     "start_time": "2024-03-14T07:21:45.120763900Z"
    }
   },
   "id": "d6360504412ad8b6"
  },
  {
   "cell_type": "markdown",
   "source": [
    "通过get和@property两种方式获取访问受限的属性,\n",
    "**请问这两种访问方式有什么不同呢？**"
   ],
   "metadata": {
    "collapsed": false
   },
   "id": "7758cc4f452d3b09"
  },
  {
   "cell_type": "code",
   "execution_count": null,
   "outputs": [],
   "source": [
    "print(stu1.name)\n",
    "print(stu1.get_age())"
   ],
   "metadata": {
    "collapsed": false,
    "ExecuteTime": {
     "end_time": "2024-03-14T07:21:45.155517400Z",
     "start_time": "2024-03-14T07:21:45.150419700Z"
    }
   },
   "id": "d1e2ba826809a415"
  },
  {
   "cell_type": "markdown",
   "source": [
    "## 类的三种属性\n",
    "Python中的类通常包括了三种属性：**类属性**、**实例属性**、**特殊的类属性**。"
   ],
   "metadata": {
    "collapsed": false
   },
   "id": "cd818a40223346dd"
  },
  {
   "cell_type": "markdown",
   "source": [
    "定义类"
   ],
   "metadata": {
    "collapsed": false
   },
   "id": "2afd561a3a7cc86d"
  },
  {
   "cell_type": "code",
   "execution_count": null,
   "outputs": [],
   "source": [
    "class Student:\n",
    "    # 类属性\n",
    "    zh_nm = \"学生\"\n",
    "\n",
    "    def __init__(self, name, age):\n",
    "        # 实例属性\n",
    "        self.name = name\n",
    "        self.age = age"
   ],
   "metadata": {
    "collapsed": false,
    "ExecuteTime": {
     "start_time": "2024-03-14T07:21:45.151419700Z"
    }
   },
   "id": "acb57fd0eb848ac6"
  },
  {
   "cell_type": "markdown",
   "source": [
    "1. 类属性属于类本身，可以通过类名进行访问、也可以被类的所有实例访问"
   ],
   "metadata": {
    "collapsed": false
   },
   "id": "5931ba65c9d5d363"
  },
  {
   "cell_type": "code",
   "execution_count": null,
   "outputs": [],
   "source": [
    "stu1 = Student(\"lihua\", 28)\n",
    "print(Student.zh_nm)\n",
    "print(stu1.zh_nm)"
   ],
   "metadata": {
    "collapsed": false,
    "ExecuteTime": {
     "start_time": "2024-03-14T07:21:45.153419900Z"
    }
   },
   "id": "1fa6a46d04470f42"
  },
  {
   "cell_type": "markdown",
   "source": [
    "2. 类属性属于类本身，可以通过类名进行修改、也可以被类的所有实例修改"
   ],
   "metadata": {
    "collapsed": false
   },
   "id": "b19dcc783c1ae858"
  },
  {
   "cell_type": "code",
   "execution_count": null,
   "outputs": [],
   "source": [
    "stu1 = Student(\"lihua\", 28)\n",
    "Student.zh_nm = \"学生2\"\n",
    "print(Student.zh_nm)\n",
    "print(stu1.zh_nm)\n",
    "stu1.zh_nm = \"李华\"\n",
    "print(Student.zh_nm)\n",
    "print(stu1.zh_nm)"
   ],
   "metadata": {
    "collapsed": false,
    "ExecuteTime": {
     "start_time": "2024-03-14T07:21:45.154420500Z"
    }
   },
   "id": "b4059928ec3bbaf"
  },
  {
   "cell_type": "markdown",
   "source": [
    "3. 实例属性只能通过实例访问"
   ],
   "metadata": {
    "collapsed": false
   },
   "id": "9b4e0f742bcfacaf"
  },
  {
   "cell_type": "code",
   "execution_count": null,
   "outputs": [],
   "source": [
    "print(Student.name)"
   ],
   "metadata": {
    "collapsed": false,
    "ExecuteTime": {
     "start_time": "2024-03-14T07:21:45.156525600Z"
    }
   },
   "id": "348709eb25cbd45"
  },
  {
   "cell_type": "markdown",
   "source": [
    "4. 在实例生成后，还可以动态添加实例数据属性，但是这些实例数据属性只属于该实例。"
   ],
   "metadata": {
    "collapsed": false
   },
   "id": "7a1ffc1a8211781c"
  },
  {
   "cell_type": "code",
   "execution_count": null,
   "outputs": [],
   "source": [
    "stu2 = Student(\"lisi\", 28)\n",
    "stu3 = Student(\"zhangsan\", 18)\n",
    "stu2.gender = 'male'\n",
    "print(stu2.gender)\n",
    "print(stu3.gender)"
   ],
   "metadata": {
    "collapsed": false,
    "ExecuteTime": {
     "start_time": "2024-03-14T07:21:45.157517500Z"
    }
   },
   "id": "626d47e326b8583a"
  },
  {
   "cell_type": "markdown",
   "source": [
    "类的特殊属性：__name__、 __doc__、 __dict__、 __module__、 __class__、__bases__"
   ],
   "metadata": {
    "collapsed": false
   },
   "id": "7a059ed044b53297"
  },
  {
   "cell_type": "code",
   "execution_count": null,
   "outputs": [],
   "source": [
    "print(Student.__name__)\n",
    "print(Student.__module__)\n",
    "print(Student.__dict__)"
   ],
   "metadata": {
    "collapsed": false,
    "ExecuteTime": {
     "start_time": "2024-03-14T07:21:45.158521700Z"
    }
   },
   "id": "b7d98247c04d8b0a"
  },
  {
   "cell_type": "code",
   "execution_count": null,
   "outputs": [],
   "source": [
    "print(Student.__dict__)\n",
    "print(stu2.__dict__)"
   ],
   "metadata": {
    "collapsed": false,
    "ExecuteTime": {
     "start_time": "2024-03-14T07:21:45.159518600Z"
    }
   },
   "id": "84e7ed6edd6555c6"
  },
  {
   "cell_type": "markdown",
   "source": [
    "## 类的三种方法\n",
    "Python中的类通常包括了三种方法：**实例方法**、**类方法**、**静态方法**"
   ],
   "metadata": {
    "collapsed": false
   },
   "id": "21d1362f5422cf27"
  },
  {
   "cell_type": "code",
   "execution_count": null,
   "outputs": [],
   "source": [
    "class Person:\n",
    "    desc = \"人员信息\"\n",
    "\n",
    "    def __init__(self, name, age, weight):\n",
    "        \"\"\"\n",
    "        特殊的实例方法，构造函数\n",
    "        :param name: \n",
    "        :param age: \n",
    "        :param weight: \n",
    "        \"\"\"\n",
    "        self.name = name\n",
    "        self.age = age\n",
    "        self.weight = weight\n",
    "\n",
    "    def info(self):\n",
    "        \"\"\"\n",
    "        实例方法\n",
    "        :return: / \n",
    "        \"\"\"\n",
    "        print(f'{self.name} is {self.age}, weights is {self.weight}')\n",
    "\n",
    "    @classmethod\n",
    "    def infov2(cls):\n",
    "        \"\"\"\n",
    "        类方法\n",
    "        :return: \n",
    "        \"\"\"\n",
    "        print(f'class name is {cls.__name__}')\n",
    "        print(f'class desc is {cls.desc}')\n",
    "\n",
    "    @staticmethod\n",
    "    def is_great_than_18(age):\n",
    "        \"\"\"\n",
    "        静态方法\n",
    "        :param age: \n",
    "        :return: \n",
    "        \"\"\"\n",
    "        return age >= 18\n",
    "\n",
    "    def is_adult(self):\n",
    "        \"\"\"\n",
    "        通过实例方法调用静态方法\n",
    "        :return: \n",
    "        \"\"\"\n",
    "        print(f'{self.name} is adult: {\"yes\" if self.is_great_than_18(self.age) else \"not\"}')"
   ],
   "metadata": {
    "collapsed": false
   },
   "id": "2c50a33de441ffb9"
  },
  {
   "cell_type": "markdown",
   "source": [
    "python类的特殊方法：\n",
    "**__init__**       构造函数，在生成对象时调用\n",
    "__del__        析构函数，释放对象时使用\n",
    "__repr__       打印，转换\n",
    "__setitem__    按照索引赋值\n",
    "**__getitem__**    按照索引获取值\n",
    "**__len__**        获得长度\n",
    "__cmp__        比较运算\n",
    "**__call__**       函数调用\n",
    "__add__        加运算\n",
    "__sub__        减运算\n",
    "__mul__        乘运算\n",
    "__div__        除运算\n",
    "__mod__        求余运算\n",
    "__pow__        称方"
   ],
   "metadata": {
    "collapsed": false
   },
   "id": "8e79efae2042fc0a"
  },
  {
   "cell_type": "code",
   "execution_count": 12,
   "outputs": [],
   "source": [
    "import numpy as np\n",
    "\n",
    "\n",
    "class Weighter:\n",
    "    name = \"权重求和器\"\n",
    "\n",
    "    def __init__(self, weights: np.ndarray):\n",
    "        self.weights = weights\n",
    "\n",
    "    def __len__(self):\n",
    "        return len(self.weights)\n",
    "\n",
    "    def __call__(self, arrays: np.ndarray):\n",
    "        # todo 添加矩阵维度不同的异常处理\n",
    "        return sum(self.weights * arrays)\n",
    "\n",
    "    def __getitem__(self, item):\n",
    "        return self.weights[item]\n"
   ],
   "metadata": {
    "collapsed": false,
    "ExecuteTime": {
     "end_time": "2024-03-14T07:45:36.228683800Z",
     "start_time": "2024-03-14T07:45:35.359440400Z"
    }
   },
   "id": "8aacbf8d0e5aedcb"
  },
  {
   "cell_type": "code",
   "execution_count": 15,
   "outputs": [
    {
     "name": "stdout",
     "output_type": "stream",
     "text": [
      "4\n",
      "0.1\n",
      "2.3\n"
     ]
    }
   ],
   "source": [
    "weighter = Weighter(np.array([0.1, 0.2, 0.3, 0.4]))\n",
    "print(len(weighter))\n",
    "print(weighter[0])\n",
    "print(weighter([3, 2, 4, 1]))"
   ],
   "metadata": {
    "collapsed": false,
    "ExecuteTime": {
     "end_time": "2024-03-14T07:46:46.640098600Z",
     "start_time": "2024-03-14T07:46:46.629040600Z"
    }
   },
   "id": "79f0d173fb5b1d45"
  }
 ],
 "metadata": {
  "kernelspec": {
   "display_name": "Python 3",
   "language": "python",
   "name": "python3"
  },
  "language_info": {
   "codemirror_mode": {
    "name": "ipython",
    "version": 2
   },
   "file_extension": ".py",
   "mimetype": "text/x-python",
   "name": "python",
   "nbconvert_exporter": "python",
   "pygments_lexer": "ipython2",
   "version": "2.7.6"
  }
 },
 "nbformat": 4,
 "nbformat_minor": 5
}
